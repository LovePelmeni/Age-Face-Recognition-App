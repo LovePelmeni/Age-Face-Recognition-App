{
 "cells": [
  {
   "cell_type": "code",
   "execution_count": null,
   "metadata": {},
   "outputs": [],
   "source": [
    "import sys\n",
    "from torch.utils.data import random_split, DataLoader \n",
    "sys.path.append(\"../\")"
   ]
  },
  {
   "cell_type": "code",
   "execution_count": null,
   "metadata": {},
   "outputs": [],
   "source": [
    "from datasets import datasets\n",
    "import constants\n",
    "import pickle\n",
    "import os\n",
    "import collections\n",
    "import pandas\n",
    "from PIL import Image\n",
    "import matplotlib.pyplot as plt\n",
    "import numpy\n",
    "import cv2\n",
    "from augmentation import augmentation"
   ]
  },
  {
   "cell_type": "markdown",
   "metadata": {},
   "source": [
    "Loading images from folders"
   ]
  },
  {
   "cell_type": "code",
   "execution_count": null,
   "metadata": {},
   "outputs": [],
   "source": [
    "image_paths = collections.defaultdict(list)\n",
    "\n",
    "for path in os.listdir(\"../data/raw_data\"):\n",
    "\n",
    "    class_name = path.lower()\n",
    "    full_path = os.path.join(\"../data/raw_data\", class_name)\n",
    "\n",
    "    for fil in os.listdir(full_path):\n",
    "        image_paths[class_name].append(os.path.join(full_path, fil))"
   ]
  },
  {
   "cell_type": "markdown",
   "metadata": {},
   "source": [
    "Representing number of images for each individual class"
   ]
  },
  {
   "cell_type": "code",
   "execution_count": null,
   "metadata": {},
   "outputs": [],
   "source": [
    "for class_name, paths in image_paths.items():\n",
    "    print(class_name, 'number of images: ', len(paths))"
   ]
  },
  {
   "cell_type": "markdown",
   "metadata": {},
   "source": []
  },
  {
   "cell_type": "code",
   "execution_count": null,
   "metadata": {},
   "outputs": [],
   "source": []
  },
  {
   "cell_type": "markdown",
   "metadata": {},
   "source": [
    "Image Augmentation (creating various image types, including blurred, with noise, etc...)"
   ]
  },
  {
   "cell_type": "code",
   "execution_count": null,
   "metadata": {},
   "outputs": [],
   "source": [
    "augmented_images = augmentation.apply_augmentations(\n",
    "    images=list(image_paths.values()),\n",
    "    labels=list(image_paths.keys())\n",
    ")"
   ]
  },
  {
   "cell_type": "markdown",
   "metadata": {},
   "source": [
    "Creating dataframe of images"
   ]
  },
  {
   "cell_type": "code",
   "execution_count": null,
   "metadata": {},
   "outputs": [],
   "source": [
    "image_dataset = pandas.DataFrame(\n",
    "    image_paths,\n",
    "    columns=['class', 'path']\n",
    ")\n",
    "\n",
    "# exploding dataset for extracting each individual object\n",
    "image_dataset['path'] = image_dataset['path'].explode()\n",
    "\n",
    "# Inserting actual image objects inside the dataframe\n",
    "image_dataset['image'] = image_dataset['path'].apply(\n",
    "    lambda item: Image.open(item)\n",
    ")"
   ]
  },
  {
   "cell_type": "markdown",
   "metadata": {},
   "source": [
    "Image Visualization"
   ]
  },
  {
   "cell_type": "code",
   "execution_count": null,
   "metadata": {},
   "outputs": [],
   "source": [
    "def visualize_k_random_images(images, k):\n",
    "    \"\"\"\n",
    "    Function visualizes k images, extracted from given source\n",
    "    \n",
    "    Args:\n",
    "        images - typing.List[str] - array of images\n",
    "        k - number of images\n",
    "    \"\"\"\n",
    "    _, ax = plt.subplots(2, images // k)\n",
    "    k_random_images = numpy.random.choice(size=2 * images // k, a=images)\n",
    "    for col in range(ax.shape[0]):\n",
    "        for row in range(ax.shape[0]):\n",
    "            ax[col, row].imshow(k_random_images.pop())\n",
    "        \n",
    "visualize_k_random_images(image_dataset['Image'])"
   ]
  },
  {
   "cell_type": "markdown",
   "metadata": {},
   "source": [
    "Removing Noise from images using smoothing filters"
   ]
  },
  {
   "cell_type": "code",
   "execution_count": null,
   "metadata": {},
   "outputs": [],
   "source": [
    "def apply_gaussian_filter(image: numpy.ndarray, kernel_size: int):\n",
    "    \"\"\"\n",
    "    Function applies standard linear 2d Gaussian Filter \n",
    "    to image \n",
    "\n",
    "    kernel_size - size of the nxn kernel to apply\n",
    "    \"\"\"\n",
    "    if not len(image): return\n",
    "    filtered_img = cv2.GaussianBlur(image, ksize=kernel_size)\n",
    "    return filtered_img\n",
    "\n",
    "def apply_median_filter(image: numpy.ndarray, kernel_size: int):\n",
    "    \"\"\"\n",
    "    Function applies standard non-linear median filter \n",
    "    to image for removing salt-and-papper noise from image\n",
    "    \"\"\"\n",
    "    if len(image) == 0: return \n",
    "    filtered_img = cv2.medianBlur(\n",
    "        src=image,\n",
    "        ksize=kernel_size\n",
    "    )\n",
    "    return filtered_img\n",
    "    "
   ]
  },
  {
   "cell_type": "markdown",
   "metadata": {},
   "source": [
    "Image Enhancement"
   ]
  },
  {
   "cell_type": "code",
   "execution_count": null,
   "metadata": {},
   "outputs": [],
   "source": [
    "def gamma_convertion():\n",
    "    \"\"\"\n",
    "    \"\"\""
   ]
  },
  {
   "cell_type": "markdown",
   "metadata": {},
   "source": [
    "Grayscale Convertion"
   ]
  },
  {
   "cell_type": "code",
   "execution_count": null,
   "metadata": {},
   "outputs": [],
   "source": [
    "def gray_convert(image):\n",
    "    gray_img = cv2.cvtColor(image)\n",
    "    return gray_img"
   ]
  },
  {
   "cell_type": "markdown",
   "metadata": {},
   "source": [
    "Image thresholding"
   ]
  },
  {
   "cell_type": "code",
   "execution_count": null,
   "metadata": {},
   "outputs": [],
   "source": [
    "def apply_thresholding(image, desired_threshold: float):\n",
    "    \"\"\"\n",
    "    Function applies image thresholding to the data\n",
    "    \"\"\"\n",
    "    if not image or not len(image):\n",
    "        return \n",
    "\n",
    "    binary_img = cv2.threshold(image, thresh=desired_threshold)\n",
    "    return binary_img"
   ]
  },
  {
   "cell_type": "markdown",
   "metadata": {},
   "source": [
    "Edge Detection"
   ]
  },
  {
   "cell_type": "code",
   "execution_count": null,
   "metadata": {},
   "outputs": [],
   "source": [
    "def detect_canny_edges():\n",
    "    pass"
   ]
  },
  {
   "cell_type": "markdown",
   "metadata": {},
   "source": [
    "Feature Extraction"
   ]
  },
  {
   "cell_type": "code",
   "execution_count": null,
   "metadata": {},
   "outputs": [],
   "source": [
    "def extract_features():\n",
    "    pass"
   ]
  },
  {
   "cell_type": "markdown",
   "metadata": {},
   "source": [
    "Texture Analysis"
   ]
  },
  {
   "cell_type": "code",
   "execution_count": null,
   "metadata": {},
   "outputs": [],
   "source": [
    "def analyze_image_face_textures():\n",
    "    pass"
   ]
  },
  {
   "cell_type": "markdown",
   "metadata": {},
   "source": [
    "Splitting data into training and testing sets"
   ]
  },
  {
   "cell_type": "code",
   "execution_count": null,
   "metadata": {},
   "outputs": [],
   "source": [
    "train_size = int(len(images) * 0.7)\n",
    "test_size = int(len(images) * 0.3)\n",
    "\n",
    "train_data, test_data = random_split(\n",
    "    image_dataset, \n",
    "    [train_size, test_size]\n",
    ")"
   ]
  },
  {
   "cell_type": "markdown",
   "metadata": {},
   "source": [
    "Forming datasets"
   ]
  },
  {
   "cell_type": "code",
   "execution_count": null,
   "metadata": {},
   "outputs": [],
   "source": [
    "train_dataset = datasets.FaceRecognitionDataset(\n",
    "    images=train_data['path'],\n",
    "    labels=train_data['class'],\n",
    ")\n",
    "\n",
    "test_dataset = datasets.FaceRecognitionDataset(\n",
    "    images=test_data['path'],\n",
    "    labels=test_data['class']\n",
    ")"
   ]
  },
  {
   "cell_type": "code",
   "execution_count": null,
   "metadata": {},
   "outputs": [],
   "source": [
    "training_loader = DataLoader(\n",
    "    dataset=train_dataset, \n",
    "    batch_size=constants.BATCH_SIZE,\n",
    "    shuffle=True\n",
    ")\n",
    "\n",
    "testing_loader = DataLoader(\n",
    "    dataset=test_dataset,\n",
    "    batch_size=constants.BATCH_SIZE,\n",
    "    shuffle=True\n",
    ")"
   ]
  },
  {
   "cell_type": "markdown",
   "metadata": {},
   "source": [
    "Saving datasets to pickle format"
   ]
  },
  {
   "cell_type": "code",
   "execution_count": null,
   "metadata": {},
   "outputs": [],
   "source": [
    "pickle.dumps(training_loader, \"../data/augmented_data/training_loader.pkl\")\n",
    "pickle.dumps(testing_loader, \"../data/augmented_data/testing_loader.pkl\")"
   ]
  }
 ],
 "metadata": {
  "language_info": {
   "name": "python"
  },
  "orig_nbformat": 4
 },
 "nbformat": 4,
 "nbformat_minor": 2
}
