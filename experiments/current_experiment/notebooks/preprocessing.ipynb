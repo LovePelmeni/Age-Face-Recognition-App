{
 "cells": [
  {
   "cell_type": "code",
   "execution_count": null,
   "metadata": {},
   "outputs": [],
   "source": [
    "import sys\n",
    "from torch.utils.data import random_split\n",
    "sys.path.append(\"../\")"
   ]
  },
  {
   "cell_type": "code",
   "execution_count": null,
   "metadata": {},
   "outputs": [],
   "source": [
    "from datasets import datasets\n",
    "import pickle\n",
    "import os\n",
    "import pandas\n",
    "from PIL import Image\n",
    "import matplotlib.pyplot as plt\n",
    "import numpy\n",
    "import cv2"
   ]
  },
  {
   "cell_type": "markdown",
   "metadata": {},
   "source": [
    "Loading training set information from the CSV file"
   ]
  },
  {
   "cell_type": "code",
   "execution_count": null,
   "metadata": {},
   "outputs": [],
   "source": [
    "train_info = pandas.read_csv(\"../data/raw_data/train.csv\")"
   ]
  },
  {
   "cell_type": "markdown",
   "metadata": {},
   "source": [
    "Loading images from folders"
   ]
  },
  {
   "cell_type": "code",
   "execution_count": null,
   "metadata": {},
   "outputs": [],
   "source": [
    "images = numpy.array()\n",
    "\n",
    "for path in os.listdir(\"../data/raw_data/train_images\"):\n",
    "    img_file = Image.open(os.path.join(\"../data/raw_data/train_images\", path))\n",
    "    images.append(img_file)\n",
    "\n",
    "train_info['image'] = images"
   ]
  },
  {
   "cell_type": "markdown",
   "metadata": {},
   "source": [
    "Representing number of images for each individual class"
   ]
  },
  {
   "cell_type": "code",
   "execution_count": null,
   "metadata": {},
   "outputs": [],
   "source": [
    "train_info.info()"
   ]
  },
  {
   "cell_type": "code",
   "execution_count": null,
   "metadata": {},
   "outputs": [],
   "source": [
    "train_info['class'].value_counts()"
   ]
  },
  {
   "cell_type": "code",
   "execution_count": null,
   "metadata": {},
   "outputs": [],
   "source": [
    "%%time\n",
    "\n",
    "def to_rgb(img):\n",
    "    if numpy.array(img).shape[2] == 4:\n",
    "        img = cv2.cvtColor(numpy.array(img), cv2.COLOR_BGRA2BGR)\n",
    "    return Image.fromarray(numpy.array(img))\n",
    "\n",
    "train_info['image'].apply(\n",
    "    func=lambda image: to_rgb(image)\n",
    ")"
   ]
  },
  {
   "cell_type": "markdown",
   "metadata": {},
   "source": [
    "Noise Analysis"
   ]
  },
  {
   "cell_type": "code",
   "execution_count": null,
   "metadata": {},
   "outputs": [],
   "source": [
    "def is_noisy(self, image, threshold: int = 10):\n",
    "    scaled_img = cv2.cvtColor(image, cv2.IMREAD_GRAYSCALE)\n",
    "    variance = cv2.Laplacian(src=scaled_img, threshold=threshold).var()\n",
    "    return variance < threshold"
   ]
  },
  {
   "cell_type": "code",
   "execution_count": null,
   "metadata": {},
   "outputs": [],
   "source": [
    "noisy_images = train_info[is_noisy(train_info['image'])]['image']"
   ]
  },
  {
   "cell_type": "code",
   "execution_count": null,
   "metadata": {},
   "outputs": [],
   "source": [
    "plot, ax = plt.subplots()\n",
    "\n",
    "for col in enumerate(noisy_images.shape[0]):\n",
    "    for row in range(noisy_images.shape[0]):\n",
    "        ax[col, row].imshow(noisy_images)\n",
    "plt.show()"
   ]
  },
  {
   "cell_type": "markdown",
   "metadata": {},
   "source": [
    "Removing image noise using smoothing filters"
   ]
  },
  {
   "cell_type": "code",
   "execution_count": null,
   "metadata": {},
   "outputs": [],
   "source": [
    "def apply_median_filter(image: numpy.ndarray, kernel_size: int):\n",
    "    \"\"\"\n",
    "    Function applies standard non-linear median filter \n",
    "    to image for removing salt-and-papper noise from image\n",
    "    \"\"\"\n",
    "    if len(image) == 0: return \n",
    "    filtered_img = cv2.medianBlur(\n",
    "        src=image,\n",
    "        ksize=kernel_size\n",
    "    )\n",
    "    return filtered_img\n",
    "\n",
    "def apply_bilateral_filtering(\n",
    "    image: numpy.ndarray, \n",
    "    kernel_size: int,\n",
    "    sigma_space: int, \n",
    "    sigma_color: int\n",
    "):\n",
    "    \"\"\"\n",
    "    Function applies bilateral filter to given image\n",
    "    \"\"\"\n",
    "    smoothed_img = cv2.bilateralFilter(\n",
    "        src=image,\n",
    "        sigmaColor=sigma_color,\n",
    "        sigmaSpace=sigma_space,\n",
    "        d=kernel_size,\n",
    "    )\n",
    "    return smoothed_img"
   ]
  },
  {
   "cell_type": "code",
   "execution_count": null,
   "metadata": {},
   "outputs": [],
   "source": [
    "for idx, image in enumerate(noisy_images.to_numpy()):\n",
    "    # Applying filter to noisy image\n",
    "    blurred_img = apply_bilateral_filtering(\n",
    "        image=image,\n",
    "        sigma_color=30,\n",
    "        sigma_space=30,\n",
    "        kernel_size=5\n",
    "    )\n",
    "    train_info.iloc[idx, 'image'] =  blurred_img\n"
   ]
  },
  {
   "cell_type": "markdown",
   "metadata": {},
   "source": [
    "Forming Data Augmentation Instructions"
   ]
  },
  {
   "cell_type": "code",
   "execution_count": null,
   "metadata": {},
   "outputs": [],
   "source": [
    "HEIGHT = 512\n",
    "WIDTH = 512"
   ]
  },
  {
   "cell_type": "code",
   "execution_count": null,
   "metadata": {},
   "outputs": [],
   "source": [
    "from torchvision import transforms \n",
    "from PIL import Image\n",
    "\n",
    "\n",
    "train_transformations = [\n",
    "    transforms.ToTensor(),\n",
    "    transforms.RandomHorizontalFlip(p=0.5),\n",
    "    transforms.Resize((HEIGHT, WIDTH), interpolation=Image.NEAREST),\n",
    "    transforms.RandomAdjustSharpness(sharpness_factor=1.3, p=0.5),\n",
    "]\n",
    "\n",
    "eval_transformations = [\n",
    "    transforms.ToTensor(),\n",
    "    transforms.Resize((HEIGHT, WIDTH), interpolation=Image.NEAREST),\n",
    "]"
   ]
  },
  {
   "cell_type": "markdown",
   "metadata": {},
   "source": [
    "Splitting dataset"
   ]
  },
  {
   "cell_type": "code",
   "execution_count": null,
   "metadata": {},
   "outputs": [],
   "source": [
    "from torch.utils.data import random_split\n",
    "\n",
    "train_size = int(train_info.shape[0] * 0.7) # 70% of the data will be in training set\n",
    "evaluation_size = train_info.shape[0] - train_size # rest of 30% will be in evaluation set\n",
    "\n",
    "train_d, test_d = random_split(\n",
    "    train_info, \n",
    "    [train_size, evaluation_size]\n",
    ")"
   ]
  },
  {
   "cell_type": "markdown",
   "metadata": {},
   "source": [
    "Splitting data"
   ]
  },
  {
   "cell_type": "code",
   "execution_count": null,
   "metadata": {},
   "outputs": [],
   "source": [
    "# training set\n",
    "train_dataset = datasets.FaceRecognitionDataset(\n",
    "    images=numpy.array(train_info['image'])[train_d.indices],\n",
    "    labels=numpy.array(train_info['class'])[train_d.indices]\n",
    ")\n",
    "\n",
    "# evaludation dataset\n",
    "test_dataset = datasets.FaceRecognitionDataset(\n",
    "    images=numpy.array(train_info['image'])[test_d.indices],\n",
    "    labels=numpy.array(train_info['class'])[test_d.indices]\n",
    ")"
   ]
  },
  {
   "cell_type": "markdown",
   "metadata": {},
   "source": [
    "Image Visualization"
   ]
  },
  {
   "cell_type": "code",
   "execution_count": null,
   "metadata": {},
   "outputs": [],
   "source": [
    "def visualize_k_random_images(images, k):\n",
    "    \"\"\"\n",
    "    Function visualizes k images, extracted from given source\n",
    "    \n",
    "    Args:\n",
    "        images - typing.List[str] - array of images\n",
    "        k - number of images\n",
    "    \"\"\"\n",
    "    _, ax = plt.subplots(2, images // k)\n",
    "    k_random_images = numpy.random.choice(size=2 * images // k, a=images)\n",
    "    for col in range(ax.shape[0]):\n",
    "        for row in range(ax.shape[0]):\n",
    "            ax[col, row].imshow(k_random_images.pop())\n",
    "        \n",
    "visualize_k_random_images(train_dataset.images)"
   ]
  },
  {
   "cell_type": "markdown",
   "metadata": {},
   "source": [
    "Texture Analysis"
   ]
  },
  {
   "cell_type": "code",
   "execution_count": null,
   "metadata": {},
   "outputs": [],
   "source": [
    "def local_binary_patterns(img):\n",
    "    pass \n",
    "\n",
    "def local_ternary_patterns(img):\n",
    "    pass \n",
    "\n",
    "def local_phase_quantization(img):\n",
    "    pass"
   ]
  },
  {
   "cell_type": "code",
   "execution_count": null,
   "metadata": {},
   "outputs": [],
   "source": [
    "def gabor_filtering():\n",
    "    pass"
   ]
  },
  {
   "cell_type": "markdown",
   "metadata": {},
   "source": [
    "Evaluating Transformed and Recovered Images"
   ]
  },
  {
   "cell_type": "code",
   "execution_count": null,
   "metadata": {},
   "outputs": [],
   "source": [
    "from skimage.metrics import ssim, ncc\n",
    "\n",
    "def ssim_score(orig_img, blur_img):\n",
    "    return ssim(orig_img, blur_img)\n",
    "\n",
    "def normalized_cross_correlation(orig_img, blur_img):\n",
    "    return ncc(orig_img, blur_img)"
   ]
  },
  {
   "cell_type": "code",
   "execution_count": null,
   "metadata": {},
   "outputs": [],
   "source": [
    "imgs = train_info['image'].to_numpy()\n",
    "\n",
    "for idx, image in zip(train_dataset.dataset_idxs, train_dataset.images):\n",
    "    ssim = ssim_score(imgs[idx], image)\n",
    "    cc = normalized_cross_correlation(imgs[idx], image)\n",
    "    print('ssim - %s; normalized cross correlation - %s;' % ssim, cc)\n"
   ]
  },
  {
   "cell_type": "markdown",
   "metadata": {},
   "source": [
    "Saving datasets to pickle format"
   ]
  },
  {
   "cell_type": "code",
   "execution_count": null,
   "metadata": {},
   "outputs": [],
   "source": [
    "pickle.dumps(train_dataset, \"../data/processed_data/training_set.pkl\")\n",
    "pickle.dumps(test_dataset, \"../data/processed_data/testing_set.pkl\")"
   ]
  }
 ],
 "metadata": {
  "language_info": {
   "name": "python"
  },
  "orig_nbformat": 4
 },
 "nbformat": 4,
 "nbformat_minor": 2
}
