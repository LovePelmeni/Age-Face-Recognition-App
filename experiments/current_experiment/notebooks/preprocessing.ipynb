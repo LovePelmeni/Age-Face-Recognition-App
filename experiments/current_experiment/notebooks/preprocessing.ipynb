{
 "cells": [
  {
   "cell_type": "code",
   "execution_count": null,
   "metadata": {},
   "outputs": [],
   "source": [
    "import sys\n",
    "from torch.utils.data import random_split, DataLoader \n",
    "sys.path.append(\"../\")"
   ]
  },
  {
   "cell_type": "code",
   "execution_count": null,
   "metadata": {},
   "outputs": [],
   "source": [
    "from datasets import datasets\n",
    "import constants\n",
    "import pickle\n",
    "import os\n",
    "import collections\n",
    "import pandas"
   ]
  },
  {
   "cell_type": "markdown",
   "metadata": {},
   "source": [
    "Loading images from folders"
   ]
  },
  {
   "cell_type": "code",
   "execution_count": null,
   "metadata": {},
   "outputs": [],
   "source": [
    "image_paths = collections.defaultdict(list)\n",
    "\n",
    "for path in os.listdir(\"../data/raw_data\"):\n",
    "\n",
    "    class_name = path.lower()\n",
    "    full_path = os.path.join(\"../data/raw_data\", class_name)\n",
    "\n",
    "    for fil in os.listdir(full_path):\n",
    "        image_paths[class_name].append(os.path.join(full_path, fil))"
   ]
  },
  {
   "cell_type": "markdown",
   "metadata": {},
   "source": [
    "Representing number of images for each individual class"
   ]
  },
  {
   "cell_type": "code",
   "execution_count": null,
   "metadata": {},
   "outputs": [],
   "source": [
    "for class_name, paths in image_paths.items():\n",
    "    print(class_name, 'number of images: ', len(paths))"
   ]
  },
  {
   "cell_type": "markdown",
   "metadata": {},
   "source": [
    "Creating dataframe of images"
   ]
  },
  {
   "cell_type": "code",
   "execution_count": null,
   "metadata": {},
   "outputs": [],
   "source": [
    "image_dataset = pandas.DataFrame(\n",
    "    image_paths, \n",
    "    columns=['class', 'path']\n",
    ")"
   ]
  },
  {
   "cell_type": "markdown",
   "metadata": {},
   "source": [
    "Splitting data into training and testing sets"
   ]
  },
  {
   "cell_type": "code",
   "execution_count": null,
   "metadata": {},
   "outputs": [],
   "source": [
    "train_size = int(len(images) * 0.7)\n",
    "test_size = int(len(images) * 0.3)\n",
    "\n",
    "train_data, test_data = random_split(\n",
    "    image_dataset, \n",
    "    [train_size, test_size]\n",
    ")"
   ]
  },
  {
   "cell_type": "markdown",
   "metadata": {},
   "source": [
    "Forming datasets"
   ]
  },
  {
   "cell_type": "code",
   "execution_count": null,
   "metadata": {},
   "outputs": [],
   "source": [
    "train_dataset = datasets.FaceRecognitionDataset(\n",
    "    images=train_data['path'],\n",
    "    labels=train_data['class'],\n",
    ")\n",
    "\n",
    "test_dataset = datasets.FaceRecognitionDataset(\n",
    "    images=test_data['path'],\n",
    "    labels=test_data['class']\n",
    ")"
   ]
  },
  {
   "cell_type": "code",
   "execution_count": null,
   "metadata": {},
   "outputs": [],
   "source": [
    "training_loader = DataLoader(\n",
    "    dataset=train_dataset, \n",
    "    batch_size=constants.BATCH_SIZE,\n",
    "    shuffle=True\n",
    ")\n",
    "\n",
    "testing_loader = DataLoader(\n",
    "    dataset=test_dataset,\n",
    "    batch_size=constants.BATCH_SIZE,\n",
    "    shuffle=True\n",
    ")"
   ]
  },
  {
   "cell_type": "markdown",
   "metadata": {},
   "source": [
    "Saving datasets to pickle format"
   ]
  },
  {
   "cell_type": "code",
   "execution_count": null,
   "metadata": {},
   "outputs": [],
   "source": [
    "pickle.dumps(training_loader, \"../data/augmented_data/training_loader.pkl\")\n",
    "pickle.dumps(testing_loader, \"../data/augmented_data/testing_loader.pkl\")"
   ]
  }
 ],
 "metadata": {
  "language_info": {
   "name": "python"
  },
  "orig_nbformat": 4
 },
 "nbformat": 4,
 "nbformat_minor": 2
}
