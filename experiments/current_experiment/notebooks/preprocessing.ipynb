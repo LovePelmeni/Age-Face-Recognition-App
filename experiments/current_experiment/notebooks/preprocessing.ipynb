{
 "cells": [
  {
   "cell_type": "code",
   "execution_count": null,
   "metadata": {},
   "outputs": [],
   "source": [
    "import sys\n",
    "from torch.utils.data import random_split, DataLoader \n",
    "sys.path.append(\"../\")"
   ]
  },
  {
   "cell_type": "code",
   "execution_count": null,
   "metadata": {},
   "outputs": [],
   "source": [
    "from datasets import datasets\n",
    "import constants\n",
    "import pickle"
   ]
  },
  {
   "cell_type": "markdown",
   "metadata": {},
   "source": [
    "Loading images from CVAT source"
   ]
  },
  {
   "cell_type": "code",
   "execution_count": null,
   "metadata": {},
   "outputs": [],
   "source": [
    "images = datasets.FaceRecognitionDataset(images=[], labels=[])"
   ]
  },
  {
   "cell_type": "markdown",
   "metadata": {},
   "source": [
    "Splitting data into training and testing sets"
   ]
  },
  {
   "cell_type": "code",
   "execution_count": null,
   "metadata": {},
   "outputs": [],
   "source": [
    "train_size = int(len(images) * 0.7)\n",
    "test_size = int(len(images) * 0.3)\n",
    "train_dataset, test_dataset = random_split(images, [train_size, test_size])"
   ]
  },
  {
   "cell_type": "code",
   "execution_count": null,
   "metadata": {},
   "outputs": [],
   "source": [
    "training_set = DataLoader(\n",
    "    dataset=train_dataset, \n",
    "    batch_size=constants.BATCH_SIZE,\n",
    "    shuffle=True\n",
    ")\n",
    "\n",
    "testing_set = DataLoader(\n",
    "    dataset=test_dataset,\n",
    "    batch_size=constants.BATCH_SIZE,\n",
    "    shuffle=True\n",
    ")"
   ]
  },
  {
   "cell_type": "markdown",
   "metadata": {},
   "source": [
    "Saving datasets to pickle format"
   ]
  },
  {
   "cell_type": "code",
   "execution_count": null,
   "metadata": {},
   "outputs": [],
   "source": [
    "pickle.dumps(training_set, \"../data/augmented_data/training_loader.pkl\")\n",
    "pickle.dumps(testing_set, \"../data/augmented_data/testing_loader.pkl\")"
   ]
  }
 ],
 "metadata": {
  "language_info": {
   "name": "python"
  },
  "orig_nbformat": 4
 },
 "nbformat": 4,
 "nbformat_minor": 2
}
