{
 "cells": [
  {
   "cell_type": "code",
   "execution_count": null,
   "metadata": {},
   "outputs": [],
   "source": [
    "from models import models \n",
    "import pickle\n",
    "import torch.nn as nn\n",
    "from models import models as mdls\n",
    "from torch.utils import data\n",
    "from tqdm import tqdm"
   ]
  },
  {
   "cell_type": "code",
   "execution_count": null,
   "metadata": {},
   "outputs": [],
   "source": [
    "import sys\n",
    "sys.path.append(\"../\")"
   ]
  },
  {
   "cell_type": "code",
   "execution_count": null,
   "metadata": {},
   "outputs": [],
   "source": [
    "training_set = pickle.load(\"../data/augmented_data/training_loader.pkl\")\n",
    "testing_set = pickle.load(\"../data/augmented_data/testing_loader.pkl\")"
   ]
  },
  {
   "cell_type": "code",
   "execution_count": null,
   "metadata": {},
   "outputs": [],
   "source": [
    "if not isinstance(training_set, data.DataLoader):\n",
    "    raise ValueError(\"Invalid training set type\")\n",
    "\n",
    "if not isinstance(testing_set, data.DataLoader):\n",
    "    raise ValueError(\"Invalid testing set type\")"
   ]
  },
  {
   "cell_type": "markdown",
   "metadata": {},
   "source": [
    "Model Initialization"
   ]
  },
  {
   "cell_type": "code",
   "execution_count": null,
   "metadata": {},
   "outputs": [],
   "source": [
    "from torchvision import models\n",
    "\n",
    "loss = nn.CrossEntropyLoss()\n",
    "model = mdls.FaceRecognitionNet(\n",
    "    loss_function=loss,\n",
    "    num_classes=4,\n",
    "    learning_rate=3e-4,\n",
    "    weights=models.ResNet50_Weights.DEFAULT,\n",
    "    weight_decay=0.01,\n",
    ")"
   ]
  },
  {
   "cell_type": "markdown",
   "metadata": {},
   "source": [
    "Training Neural Network"
   ]
  },
  {
   "cell_type": "code",
   "execution_count": null,
   "metadata": {},
   "outputs": [],
   "source": [
    "mean_loss = tqdm(model.train(image_dataset=training_set))\n",
    "print('average training loss: %s' % mean_loss)"
   ]
  },
  {
   "cell_type": "markdown",
   "metadata": {},
   "source": [
    "Testing model on given testing dataset"
   ]
  },
  {
   "cell_type": "code",
   "execution_count": null,
   "metadata": {},
   "outputs": [],
   "source": [
    "predictions = model.forward(X_data=testing_set)"
   ]
  },
  {
   "cell_type": "markdown",
   "metadata": {},
   "source": [
    "Evaluating testing loss using Cross-Entropy"
   ]
  },
  {
   "cell_type": "code",
   "execution_count": null,
   "metadata": {},
   "outputs": [],
   "source": [
    "import torch \n",
    "\n",
    "def softmax(probs):\n",
    "    return torch.sum(torch.exp(probs) / torch.sum(torch.exp(probs)))\n",
    "\n",
    "def one_hot_encode(num_classes, y_pred):\n",
    "    vec = torch.zeros(num_classes)\n",
    "    vec[y_pred-1] = 1 \n",
    "    return vec\n",
    "\n",
    "def log_loss(y_pred, y_true, num_classes):\n",
    "    loss = 0\n",
    "    for idx, sample in enumerate(y_pred):\n",
    "        soft_pred = softmax(sample)\n",
    "        one_hot_vec = one_hot_encode(num_classes, y_true[idx])\n",
    "        loss += one_hot_vec * torch.log2(soft_pred)\n",
    "    return -loss\n",
    "    "
   ]
  },
  {
   "cell_type": "code",
   "execution_count": null,
   "metadata": {},
   "outputs": [],
   "source": [
    "test_loss = log_loss(predictions, training_set.dataset.labels)\n",
    "print('loss on testing set: ', test_loss)"
   ]
  },
  {
   "cell_type": "markdown",
   "metadata": {},
   "source": [
    "Saving Neural Network to ONNX format"
   ]
  },
  {
   "cell_type": "code",
   "execution_count": null,
   "metadata": {},
   "outputs": [
    {
     "ename": "",
     "evalue": "",
     "output_type": "error",
     "traceback": [
      "\u001b[1;31mFailed to start Jupyter in the environment 'Python 3.11.4 ('env': venv) (~/Desktop/test_project/env/bin/python)'. \n",
      "ImportError: cannot import name 'notebookapp' from 'notebook' (/Users/kirillklimushin/Desktop/test_project/env/lib/python3.11/site-packages/notebook/__init__.py) \n",
      "View Jupyter <a href='command:jupyter.viewOutput'>log</a> for further details."
     ]
    }
   ],
   "source": [
    "model.export(model_name='neural_net', model_path='../prod_models')"
   ]
  }
 ],
 "metadata": {
  "interpreter": {
   "hash": "054962d8412c40ab6ea85d57607d74a28b7dfe6c04dd73b64e5143a2d7790faa"
  },
  "kernelspec": {
   "display_name": "Python 3.11.4 ('fc_env': venv)",
   "language": "python",
   "name": "python3"
  },
  "language_info": {
   "name": "python",
   "version": "3.11.4"
  },
  "orig_nbformat": 4
 },
 "nbformat": 4,
 "nbformat_minor": 2
}
